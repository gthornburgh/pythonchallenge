{
 "cells": [
  {
   "cell_type": "code",
   "execution_count": 1,
   "metadata": {},
   "outputs": [],
   "source": [
    "import pandas as pd"
   ]
  },
  {
   "cell_type": "code",
   "execution_count": 2,
   "metadata": {},
   "outputs": [],
   "source": [
    "pypoll = \"election_data.csv\""
   ]
  },
  {
   "cell_type": "code",
   "execution_count": null,
   "metadata": {},
   "outputs": [],
   "source": [
    "pypoll_df = pd.read_csv(pypoll)\n",
    "pypoll_df.head()"
   ]
  },
  {
   "cell_type": "code",
   "execution_count": null,
   "metadata": {},
   "outputs": [],
   "source": [
    "pypoll_df[\"Candidate\"].value_counts()"
   ]
  },
  {
   "cell_type": "code",
   "execution_count": null,
   "metadata": {},
   "outputs": [],
   "source": [
    "pypoll_df.count"
   ]
  },
  {
   "cell_type": "code",
   "execution_count": null,
   "metadata": {},
   "outputs": [],
   "source": [
    "# total, candidate total\n",
    "total = 3521001\n",
    "k = 2218231\n",
    "c = 704200\n",
    "l = 492940\n",
    "o = 105630"
   ]
  },
  {
   "cell_type": "code",
   "execution_count": null,
   "metadata": {},
   "outputs": [],
   "source": [
    "# print results\n",
    "print(\"Election Results\")\n",
    "print(\"-----------------------------------\")\n",
    "print(\"Total Votes: \" + str(total))\n",
    "print(\"-----------------------------------\")\n",
    "print((\"Kahn: \") + str(k) + (\"   \") + str(kk))\n",
    "print((\"Correy: \") + str(c) + (\"   \") + str(cc))\n",
    "print((\"Li: \") + str(l) + (\"   \") + str(ll))\n",
    "print((\"O'Tooley: \") + str(o) + (\"   \") + str(oo))\n",
    "print(\"-----------------------------------\")\n",
    "print(\"Winner: Kahn\")\n",
    "print(\"-----------------------------------\")"
   ]
  },
  {
   "cell_type": "code",
   "execution_count": null,
   "metadata": {},
   "outputs": [],
   "source": [
    "with open('pypoll_analysis.txt', 'w') as text:\n",
    "    text.write(\"Election Resulst\\n\")\n",
    "text.write(\"-----------------------------------\\n\")\n",
    "text.write(\"Total Votes: \" + str(total) + \"\\n\")\n",
    "text.write(\"-----------------------------------\\n\")\n",
    "text.write((\"Kahn: \") + str(k) + (\"   \") + str(kk) + \"\\n\")\n",
    "text.write((\"Correy: \") + str(c) + (\"   \") + str(cc) + \"\\n\")\n",
    "text.write((\"Li: \") + str(l) + (\"   \") + str(ll) + \"\\n\")\n",
    "text.write((\"O'Tooley: \") + str(o) + (\"   \") + str(oo) + \"\\n\")\n",
    "text.write(\"-----------------------------------\\n\")\n",
    "text.write(\"Winner: Kahn\" + \"\\n\")\n",
    "text.write(\"-----------------------------------\\n\")"
   ]
  },
  {
   "cell_type": "code",
   "execution_count": null,
   "metadata": {},
   "outputs": [],
   "source": []
  },
  {
   "cell_type": "code",
   "execution_count": null,
   "metadata": {},
   "outputs": [],
   "source": []
  }
 ],
 "metadata": {
  "kernelspec": {
   "display_name": "PythonData",
   "language": "python",
   "name": "pythondata"
  },
  "language_info": {
   "codemirror_mode": {
    "name": "ipython",
    "version": 3
   },
   "file_extension": ".py",
   "mimetype": "text/x-python",
   "name": "python",
   "nbconvert_exporter": "python",
   "pygments_lexer": "ipython3",
   "version": "3.6.10"
  }
 },
 "nbformat": 4,
 "nbformat_minor": 4
}
